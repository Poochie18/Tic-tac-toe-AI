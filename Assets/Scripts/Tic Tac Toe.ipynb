{
 "cells": [
  {
   "cell_type": "code",
   "execution_count": 5,
   "metadata": {},
   "outputs": [],
   "source": [
    "def AddToDict(markedTiles, coef):\n",
    "    temp = []\n",
    "    temp.append(markedTiles)\n",
    "    temp.append(coef)\n",
    "    mass.append(temp)    \n",
    "\n",
    "def Format(*args):\n",
    "    markedTiles = '{}{}{}{}{}{}{}{}{}'.format(args[0],args[1],args[2],args[3],args[4],args[5],args[6],args[7],args[8])\n",
    "    \n",
    "    whichPlayer = '1'\n",
    "    if Statement(markedTiles, '1'):\n",
    "        AddToDict(markedTiles, 0)\n",
    "    elif Statement(markedTiles, '2'):\n",
    "        AddToDict(markedTiles, 1)\n",
    "    else:\n",
    "        AddToDict(markedTiles, '0.5')\n",
    "\n",
    "\n",
    "def Statement(markedTiles, whichPlayer):\n",
    "    ls = [markedTiles[0] == whichPlayer and markedTiles[1] == whichPlayer and markedTiles[2] == whichPlayer,\n",
    "                markedTiles[3] == whichPlayer and markedTiles[4] == whichPlayer and markedTiles[5] == whichPlayer,\n",
    "                markedTiles[6] == whichPlayer and markedTiles[7] == whichPlayer and markedTiles[8] == whichPlayer,\n",
    "                markedTiles[0] == whichPlayer and markedTiles[3] == whichPlayer and markedTiles[6] == whichPlayer,\n",
    "                markedTiles[1] == whichPlayer and markedTiles[4] == whichPlayer and markedTiles[7] == whichPlayer,\n",
    "                markedTiles[2] == whichPlayer and markedTiles[5] == whichPlayer and markedTiles[8] == whichPlayer,\n",
    "                markedTiles[0] == whichPlayer and markedTiles[4] == whichPlayer and markedTiles[8] == whichPlayer,\n",
    "                markedTiles[2] == whichPlayer and markedTiles[4] == whichPlayer and markedTiles[6] == whichPlayer,]\n",
    "    for x in ls:\n",
    "        if x == True:\n",
    "            return True\n",
    "mass = []       \n",
    "for i1 in range(3):\n",
    "    for i2 in range(3):\n",
    "        for i3 in range(3):\n",
    "            for i4 in range(3):\n",
    "                for i5 in range(3):\n",
    "                    for i6 in range(3):\n",
    "                        for i7 in range(3):\n",
    "                            for i8 in range(3):\n",
    "                                for i9 in range(3):\n",
    "                                    Format(i1,i2,i3,i4,i5,i6,i7,i8,i9)\n",
    "\n",
    "f = open('dict.txt', 'w')\n",
    "for index, coef in mass:\n",
    "    f.write(str(index) + ' ' + str(coef) + '\\n')"
   ]
  },
  {
   "cell_type": "code",
   "execution_count": null,
   "metadata": {},
   "outputs": [],
   "source": []
  }
 ],
 "metadata": {
  "kernelspec": {
   "display_name": "Python 3",
   "language": "python",
   "name": "python3"
  },
  "language_info": {
   "codemirror_mode": {
    "name": "ipython",
    "version": 3
   },
   "file_extension": ".py",
   "mimetype": "text/x-python",
   "name": "python",
   "nbconvert_exporter": "python",
   "pygments_lexer": "ipython3",
   "version": "3.8.5"
  }
 },
 "nbformat": 4,
 "nbformat_minor": 4
}
